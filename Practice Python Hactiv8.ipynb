{
 "cells": [
  {
   "cell_type": "markdown",
   "id": "51a08b6c",
   "metadata": {},
   "source": [
    "Integer"
   ]
  },
  {
   "cell_type": "code",
   "execution_count": 7,
   "id": "b05b3e58",
   "metadata": {},
   "outputs": [
    {
     "name": "stdout",
     "output_type": "stream",
     "text": [
      "1\n"
     ]
    }
   ],
   "source": [
    "print(1)"
   ]
  },
  {
   "cell_type": "markdown",
   "id": "bed1d736",
   "metadata": {},
   "source": [
    "Float"
   ]
  },
  {
   "cell_type": "code",
   "execution_count": 8,
   "id": "35b42416",
   "metadata": {},
   "outputs": [
    {
     "name": "stdout",
     "output_type": "stream",
     "text": [
      "0.2\n"
     ]
    }
   ],
   "source": [
    "print(.2)"
   ]
  },
  {
   "cell_type": "code",
   "execution_count": 9,
   "id": "450cded7",
   "metadata": {},
   "outputs": [
    {
     "name": "stdout",
     "output_type": "stream",
     "text": [
      "<class 'float'>\n"
     ]
    }
   ],
   "source": [
    "print(type(.2))"
   ]
  },
  {
   "cell_type": "markdown",
   "id": "b786297a",
   "metadata": {},
   "source": [
    "String"
   ]
  },
  {
   "cell_type": "code",
   "execution_count": 15,
   "id": "907c8e4f",
   "metadata": {},
   "outputs": [
    {
     "data": {
      "text/plain": [
       "'Hello world'"
      ]
     },
     "metadata": {},
     "output_type": "display_data"
    },
    {
     "name": "stdout",
     "output_type": "stream",
     "text": [
      "<class 'str'>\n",
      "\"hello world\"\n",
      "can't\n",
      "\"She\" knows\n",
      " \"She\" can't \n"
     ]
    }
   ],
   "source": [
    "display(\"Hello world\")\n",
    "'Hello world'\n",
    "print(type('apa'))\n",
    "print('\"hello world\"')\n",
    "print(\"can't\")\n",
    "print('\"She\" knows')\n",
    "print(''' \"She\" can't ''')"
   ]
  },
  {
   "cell_type": "markdown",
   "id": "89f4cb17",
   "metadata": {},
   "source": [
    "Boolean"
   ]
  },
  {
   "cell_type": "code",
   "execution_count": 17,
   "id": "058bbcd7",
   "metadata": {},
   "outputs": [
    {
     "name": "stdout",
     "output_type": "stream",
     "text": [
      "True\n",
      "False\n",
      "1\n",
      "2\n",
      "0\n"
     ]
    }
   ],
   "source": [
    "print(True)\n",
    "print(False)\n",
    "\n",
    "print(True + False)\n",
    "print(True + True)\n",
    "print(False + False)"
   ]
  },
  {
   "cell_type": "markdown",
   "id": "474d5662",
   "metadata": {},
   "source": [
    "Variable"
   ]
  },
  {
   "cell_type": "code",
   "execution_count": 19,
   "id": "5370a874",
   "metadata": {},
   "outputs": [
    {
     "name": "stdout",
     "output_type": "stream",
     "text": [
      "saya\n"
     ]
    },
    {
     "data": {
      "text/plain": [
       "500"
      ]
     },
     "execution_count": 19,
     "metadata": {},
     "output_type": "execute_result"
    }
   ],
   "source": [
    "a = 'saya'\n",
    "print(a)\n",
    "\n",
    "a = 500\n",
    "a"
   ]
  },
  {
   "cell_type": "code",
   "execution_count": 22,
   "id": "524b3137",
   "metadata": {},
   "outputs": [
    {
     "name": "stdout",
     "output_type": "stream",
     "text": [
      "10\n",
      "10\n",
      "10\n",
      "1\n",
      "2\n",
      "a\n"
     ]
    }
   ],
   "source": [
    "q = w = e = 10\n",
    "print(q)\n",
    "print(w)\n",
    "print(e)\n",
    "\n",
    "z, x, y = 1, 2, 'a'\n",
    "print(z)\n",
    "print(x)\n",
    "print(y)"
   ]
  },
  {
   "cell_type": "code",
   "execution_count": 23,
   "id": "157b9b39",
   "metadata": {},
   "outputs": [
    {
     "name": "stdout",
     "output_type": "stream",
     "text": [
      "ucup 25 40\n"
     ]
    }
   ],
   "source": [
    "nama = 'ucup'\n",
    "age = 25\n",
    "ukuran_sepatu = 40\n",
    "\n",
    "print(nama, age, ukuran_sepatu)"
   ]
  },
  {
   "cell_type": "code",
   "execution_count": 28,
   "id": "1d9392a3",
   "metadata": {},
   "outputs": [
    {
     "name": "stdout",
     "output_type": "stream",
     "text": [
      "7\n",
      "3\n",
      "10\n",
      "2.5\n",
      "2\n",
      "25\n",
      "1\n"
     ]
    }
   ],
   "source": [
    "a = 5\n",
    "b = 2\n",
    "\n",
    "print(a + b) \n",
    "print(a - b)\n",
    "print(a * b)\n",
    "print(a / b) #pembagian desimal\n",
    "print(a // b) #dijadikan integer\n",
    "print(a ** b) #pangkat\n",
    "print(a % b) #modulo -hasil sisa dari pembagian\n",
    "\n"
   ]
  },
  {
   "cell_type": "markdown",
   "id": "799bfc92",
   "metadata": {},
   "source": [
    "comparison operators"
   ]
  },
  {
   "cell_type": "code",
   "execution_count": 30,
   "id": "1c97413c",
   "metadata": {},
   "outputs": [
    {
     "name": "stdout",
     "output_type": "stream",
     "text": [
      "False\n",
      "True\n",
      "True\n",
      "True\n",
      "True\n",
      "False\n",
      "False\n"
     ]
    }
   ],
   "source": [
    "a = 5\n",
    "b = 2\n",
    "c = 2\n",
    "\n",
    "print( a == b)\n",
    "print(c == b)\n",
    "print(a != b) #tidak sama dengan\n",
    "print(a > b) #besar dari\n",
    "print(a >= b) #besar dari sama dengan\n",
    "print(a < b) #kecil dari\n",
    "print(a <= b) #kecil dari sama dengan"
   ]
  },
  {
   "cell_type": "markdown",
   "id": "963c3042",
   "metadata": {},
   "source": [
    "string manipulation"
   ]
  },
  {
   "cell_type": "code",
   "execution_count": 32,
   "id": "8b6c42a3",
   "metadata": {},
   "outputs": [
    {
     "name": "stdout",
     "output_type": "stream",
     "text": [
      "Python\n",
      "hactiv + 8\n",
      "PyPyPyPyPy\n",
      "True\n",
      "False\n"
     ]
    }
   ],
   "source": [
    "q = 'Py'\n",
    "w = 'thon'\n",
    "print(q + w)\n",
    "print('hactiv + 8')\n",
    "print(q * a)\n",
    "\n",
    "print(q in 'Python')\n",
    "print(w in 'Pyton')"
   ]
  },
  {
   "cell_type": "code",
   "execution_count": 33,
   "id": "2d921719",
   "metadata": {},
   "outputs": [
    {
     "name": "stdout",
     "output_type": "stream",
     "text": [
      "HACTIV8 KAMPUS\n",
      "hactiv8 kampus\n",
      "Hactiv8 kampus\n",
      "hAcTIV8 kAMPUS\n",
      "Hactiv8 Kampus\n"
     ]
    }
   ],
   "source": [
    "h = 'HaCtiv8 Kampus'\n",
    "print(h.upper())\n",
    "print(h.lower())\n",
    "print(h.capitalize())\n",
    "print(h.swapcase())\n",
    "print(h.title())"
   ]
  },
  {
   "cell_type": "markdown",
   "id": "53b0dc86",
   "metadata": {},
   "source": [
    "List"
   ]
  },
  {
   "cell_type": "code",
   "execution_count": 47,
   "id": "aa1dd8aa",
   "metadata": {},
   "outputs": [
    {
     "name": "stdout",
     "output_type": "stream",
     "text": [
      "<class 'list'>\n",
      "[1, 2, 3, 'a', True, ['b', 300, False], 4.6, 2, 5, 'Py', 'thon']\n",
      "['b', 300, False]\n",
      "[1, 2, 3, 'a']\n",
      "[1, 2, 3, 'a', True, ['b', 300, False], 4.6, 2, 5, 'Py', 'thon', 'Python', 'KS19', 'asoy']\n"
     ]
    }
   ],
   "source": [
    "#index ke 0  1  2   3     4         5            6    7   8  9  10\n",
    "daftar = [1, 2, 3, 'a', True, ['b', 300, False], 4.6, 1+1, a, q, w]\n",
    "py = ['Python', 'KS19', 'asoy']\n",
    "print(type(daftar))\n",
    "print(daftar)\n",
    "print(daftar[5])\n",
    "print(daftar[0:4])#start and stop\n",
    "print(daftar + py)"
   ]
  },
  {
   "cell_type": "code",
   "execution_count": 48,
   "id": "91659cd6",
   "metadata": {},
   "outputs": [
    {
     "name": "stdout",
     "output_type": "stream",
     "text": [
      "11\n",
      "asoy\n",
      "KS19\n"
     ]
    }
   ],
   "source": [
    "print(len(daftar))\n",
    "print(max(py))\n",
    "print(min(py))"
   ]
  },
  {
   "cell_type": "code",
   "execution_count": 68,
   "id": "4cd15e4b",
   "metadata": {},
   "outputs": [
    {
     "name": "stdout",
     "output_type": "stream",
     "text": [
      "[1.5, 2.3, ['Python', 'KS19', 'asoy'], 4.6, 2, ['Python', 'KS19', 'asoy'], 'udah malem', 'thon']\n"
     ]
    }
   ],
   "source": [
    "daftar[2] = py\n",
    "print(daftar)"
   ]
  },
  {
   "cell_type": "code",
   "execution_count": null,
   "id": "b5d16766",
   "metadata": {},
   "outputs": [],
   "source": []
  },
  {
   "cell_type": "markdown",
   "id": "97904a4d",
   "metadata": {},
   "source": [
    "dictionary"
   ]
  },
  {
   "cell_type": "code",
   "execution_count": 76,
   "id": "a2f6e0ea",
   "metadata": {},
   "outputs": [
    {
     "name": "stdout",
     "output_type": "stream",
     "text": [
      "{'kota': ['Jakarta'], 'jalan': 'bangka', 'nomor rumah': 14, 'pohon': ['jambu', 'apel', 'mangga'], 'akses': {'TJ': 'tidak bisa', 'gojek': 'bisa'}}\n",
      "apel\n",
      "tidak bisa\n"
     ]
    }
   ],
   "source": [
    "alamat = {}\n",
    "\n",
    "alamat['kota'] = ['Jakarta']\n",
    "alamat['jalan'] = 'bangka'\n",
    "alamat['nomor rumah'] = 14\n",
    "alamat['pohon'] = ['jambu','apel','mangga']\n",
    "alamat['akses'] = {'TJ':'tidak bisa','gojek':'bisa'}\n",
    "\n",
    "print(alamat)\n",
    "print(alamat['pohon'][1])\n",
    "print(alamat['akses']['TJ'])"
   ]
  },
  {
   "cell_type": "code",
   "execution_count": 79,
   "id": "47485e3e",
   "metadata": {},
   "outputs": [
    {
     "name": "stdout",
     "output_type": "stream",
     "text": [
      "dict_items([('kota', ['Jakarta']), ('jalan', 'bangka'), ('nomor rumah', 14), ('pohon', ['jambu', 'apel', 'mangga']), ('akses', {'TJ': 'tidak bisa', 'gojek': 'bisa'})])\n",
      "dict_keys(['kota', 'jalan', 'nomor rumah', 'pohon', 'akses'])\n",
      "dict_values([['Jakarta'], 'bangka', 14, ['jambu', 'apel', 'mangga'], {'TJ': 'tidak bisa', 'gojek': 'bisa'}])\n"
     ]
    }
   ],
   "source": [
    "print(alamat.items())\n",
    "print(alamat.keys())\n",
    "print(alamat.values())"
   ]
  }
 ],
 "metadata": {
  "kernelspec": {
   "display_name": "Python 3 (ipykernel)",
   "language": "python",
   "name": "python3"
  },
  "language_info": {
   "codemirror_mode": {
    "name": "ipython",
    "version": 3
   },
   "file_extension": ".py",
   "mimetype": "text/x-python",
   "name": "python",
   "nbconvert_exporter": "python",
   "pygments_lexer": "ipython3",
   "version": "3.11.4"
  }
 },
 "nbformat": 4,
 "nbformat_minor": 5
}
